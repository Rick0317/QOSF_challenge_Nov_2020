{
 "cells": [
  {
   "cell_type": "code",
   "execution_count": 1,
   "id": "0447d5c7-ca8b-40f9-ba20-59423b153b0f",
   "metadata": {},
   "outputs": [
    {
     "name": "stderr",
     "output_type": "stream",
     "text": [
      "<frozen importlib._bootstrap>:219: RuntimeWarning: scipy._lib.messagestream.MessageStream size changed, may indicate binary incompatibility. Expected 56 from C header, got 64 from PyObject\n"
     ]
    }
   ],
   "source": [
    "import numpy as np\n",
    "\n",
    "# Importing standard Qiskit libraries\n",
    "from qiskit import QuantumCircuit, transpile, Aer, IBMQ\n",
    "from qiskit.tools.jupyter import *\n",
    "from qiskit.visualization import *\n",
    "from ibm_quantum_widgets import *\n",
    "from qiskit.providers.aer import QasmSimulator\n",
    "\n",
    "# Loading your IBM Quantum account(s)\n",
    "provider = IBMQ.load_account()"
   ]
  },
  {
   "cell_type": "code",
   "execution_count": 2,
   "id": "36f83e15-7a0e-4e88-9b41-c0dea88c6877",
   "metadata": {},
   "outputs": [],
   "source": [
    "import numpy.random as nprm\n",
    "from qiskit.extensions import UnitaryGate"
   ]
  },
  {
   "cell_type": "code",
   "execution_count": 3,
   "id": "70af35c8-64b1-4a5b-bb51-272469061d8a",
   "metadata": {},
   "outputs": [],
   "source": [
    "def make_unitary(n):\n",
    "    v = []\n",
    "    random = nprm.randint(2, size=n)\n",
    "    for i in random:\n",
    "        if i == 0:\n",
    "            v.append(-1)\n",
    "        else:\n",
    "            v.append(1)\n",
    "    uni_matrix = np.diag(v)\n",
    "    return uni_matrix"
   ]
  },
  {
   "cell_type": "code",
   "execution_count": 7,
   "id": "fe2e1c41-2107-4c19-89aa-90aa88d11871",
   "metadata": {},
   "outputs": [],
   "source": [
    "def qc_composer(uni_matrix):\n",
    "    qc = QuantumCircuit(2)\n",
    "    if uni_matrix[0][0] == -1:\n",
    "        qc.z(0)\n",
    "        qc.z(1)\n",
    "        qc.cz(0, 1)\n",
    "        qc.rx(np.pi, 0)\n",
    "        qc.rx(np.pi, 0)\n",
    "    if uni_matrix[1][1] == -1:\n",
    "        qc.z(1)\n",
    "        qc.cz(0, 1)\n",
    "    if uni_matrix[2][2] == -1:\n",
    "        qc.z(0)\n",
    "        qc.z(1)\n",
    "        qc.z(0)\n",
    "        qc.z(1)\n",
    "        qc.cz(0, 1)\n",
    "    if uni_matrix[3][3] == -1:\n",
    "        qc.cz(0, 1)\n",
    "    return qc"
   ]
  },
  {
   "cell_type": "code",
   "execution_count": null,
   "id": "cab711cb",
   "metadata": {},
   "outputs": [],
   "source": [
    "def composer(matrix, n):\n",
    "    if n > 2:\n",
    "        qc = QuantumCircuit(n)\n",
    "        sub_matrix1 = np.array([])\n",
    "        sub_matrix2 = np.array([])\n",
    "        for i in range(2**(n-1)):\n",
    "            sub_matrix1 = np.append(sub_matrix1, np.array([int(matrix[i][i])]))\n",
    "        for i in range(2**(n-1), 2**n):\n",
    "            sub_matrix2 = np.append(sub_matrix2, np.array([int(matrix[i][i])]))\n",
    "        sub_matrix1 = np.diag(sub_matrix1)\n",
    "        sub_matrix2 = np.diag(sub_matrix2) \n",
    "        new_gate1 = composer(sub_matrix1, n-1).control(1)\n",
    "        new_gate2 = composer(sub_matrix2, n-1).control(1)\n",
    "        print(new_gate1)\n",
    "        print(new_gate2)\n",
    "        print(qc)\n",
    "        qc = qc + new_gate1\n",
    "        qc = qc + new_gate2\n",
    "        return qc\n",
    "    elif n == 2:\n",
    "        qc = QuantumCircuit(n)\n",
    "        qc.extend(qc_composer(matrix))\n",
    "        return qc"
   ]
  },
  {
   "cell_type": "code",
   "execution_count": 12,
   "id": "0973728d-b2c7-44e9-b561-55f98f3b07e6",
   "metadata": {},
   "outputs": [
    {
     "name": "stderr",
     "output_type": "stream",
     "text": [
      "/tmp/ipykernel_114/825720677.py:14: DeprecationWarning: The QuantumCircuit.extend() method is being deprecated. Use the compose() (potentially with the inplace=True argument) and tensor() methods which are more flexible w.r.t circuit register compatibility.\n",
      "  qc.extend(qc_composer(matrix))\n"
     ]
    },
    {
     "data": {
      "image/png": "[encoded data removed]",
      "text/plain": [
       "<Figure size 447.652x144.48 with 1 Axes>"
      ]
     },
     "execution_count": 12,
     "metadata": {},
     "output_type": "execute_result"
    }
   ],
   "source": [
    "composer(make_unitary(4)).draw()"
   ]
  },
  {
   "cell_type": "code",
   "execution_count": null,
   "id": "20f83d5b-5e59-45b4-9eb9-6491b0100534",
   "metadata": {},
   "outputs": [],
   "source": []
  }
 ],
 "metadata": {
  "kernelspec": {
   "display_name": "Python 3 (ipykernel)",
   "language": "python",
   "name": "python3"
  },
  "language_info": {
   "codemirror_mode": {
    "name": "ipython",
    "version": 3
   },
   "file_extension": ".py",
   "mimetype": "text/x-python",
   "name": "python",
   "nbconvert_exporter": "python",
   "pygments_lexer": "ipython3",
   "version": "3.8.13"
  },
  "widgets": {
   "application/vnd.jupyter.widget-state+json": {
    "state": {
     "0637c684815b456797a58fd83a24bad2": {
      "model_module": "@jupyter-widgets/base",
      "model_module_version": "1.2.0",
      "model_name": "LayoutModel",
      "state": {}
     },
     "152a5d33aed1414a85ad71ba5e493341": {
      "model_module": "@jupyter-widgets/base",
      "model_module_version": "1.2.0",
      "model_name": "LayoutModel",
      "state": {
       "margin": "0px 0px 0px 37px",
       "width": "600px"
      }
     },
     "18d4c792b0ea4317854ede0184b9958d": {
      "model_module": "@jupyter-widgets/controls",
      "model_module_version": "1.5.0",
      "model_name": "DescriptionStyleModel",
      "state": {
       "description_width": ""
      }
     },
     "1a8576e8c79f416aa967d247377cc6a2": {
      "model_module": "@jupyter-widgets/base",
      "model_module_version": "1.2.0",
      "model_name": "LayoutModel",
      "state": {
       "width": "70px"
      }
     },
     "1f9119a012194e62afdfa31a15834e16": {
      "model_module": "@jupyter-widgets/controls",
      "model_module_version": "1.5.0",
      "model_name": "DescriptionStyleModel",
      "state": {
       "description_width": ""
      }
     },
     "24e267180a6f4702ab187aacb7b87dc0": {
      "model_module": "@jupyter-widgets/base",
      "model_module_version": "1.2.0",
      "model_name": "LayoutModel",
      "state": {
       "width": "95px"
      }
     },
     "27bc40e8ccaa4330a7b5e10a281ca1c3": {
      "model_module": "@jupyter-widgets/controls",
      "model_module_version": "1.5.0",
      "model_name": "ButtonStyleModel",
      "state": {}
     },
     "28673b7c6d2648558f28f4cf47517429": {
      "model_module": "@jupyter-widgets/base",
      "model_module_version": "1.2.0",
      "model_name": "LayoutModel",
      "state": {
       "width": "190px"
      }
     },
     "36479cd4968d4a0690cfa63586220f6f": {
      "model_module": "@jupyter-widgets/base",
      "model_module_version": "1.2.0",
      "model_name": "LayoutModel",
      "state": {
       "margin": "0px 0px 10px 0px"
      }
     },
     "402197c8160344ed9bd3154217994190": {
      "model_module": "@jupyter-widgets/controls",
      "model_module_version": "1.5.0",
      "model_name": "ButtonModel",
      "state": {
       "button_style": "primary",
       "description": "Clear",
       "layout": "IPY_MODEL_47fe0b208bc64e9eb32baf7b8cc839da",
       "style": "IPY_MODEL_27bc40e8ccaa4330a7b5e10a281ca1c3"
      }
     },
     "47fe0b208bc64e9eb32baf7b8cc839da": {
      "model_module": "@jupyter-widgets/base",
      "model_module_version": "1.2.0",
      "model_name": "LayoutModel",
      "state": {
       "grid_area": "right",
       "padding": "0px 0px 0px 0px",
       "width": "70px"
      }
     },
     "4b880f283dc24a98be80717b2e037652": {
      "model_module": "@jupyter-widgets/controls",
      "model_module_version": "1.5.0",
      "model_name": "HTMLModel",
      "state": {
       "layout": "IPY_MODEL_0637c684815b456797a58fd83a24bad2",
       "style": "IPY_MODEL_aa99a2b2a15b4ed9b47adc8f6c95e312",
       "value": "<h5>Message</h5>"
      }
     },
     "5152b4f19f224fd0a5e4c36acfd7ac8d": {
      "model_module": "@jupyter-widgets/controls",
      "model_module_version": "1.5.0",
      "model_name": "HTMLModel",
      "state": {
       "layout": "IPY_MODEL_5dbf29342db84d3aa8629876753e193b",
       "style": "IPY_MODEL_1f9119a012194e62afdfa31a15834e16",
       "value": "<h5>Backend</h5>"
      }
     },
     "5dbf29342db84d3aa8629876753e193b": {
      "model_module": "@jupyter-widgets/base",
      "model_module_version": "1.2.0",
      "model_name": "LayoutModel",
      "state": {
       "width": "145px"
      }
     },
     "7c404fa765b64627bddd28ccff4e13d8": {
      "model_module": "@jupyter-widgets/controls",
      "model_module_version": "1.5.0",
      "model_name": "DescriptionStyleModel",
      "state": {
       "description_width": ""
      }
     },
     "8b1ae3ae8c884fd99858b6fd4deee1e7": {
      "model_module": "@jupyter-widgets/controls",
      "model_module_version": "1.5.0",
      "model_name": "HBoxModel",
      "state": {
       "children": [
        "IPY_MODEL_c6ccd3418d5040b19b834f028d206638",
        "IPY_MODEL_5152b4f19f224fd0a5e4c36acfd7ac8d",
        "IPY_MODEL_8b44a79187f845dda6e11faf35647acc",
        "IPY_MODEL_b3aa4f1ca7874573be5794004eaf0e5c",
        "IPY_MODEL_4b880f283dc24a98be80717b2e037652"
       ],
       "layout": "IPY_MODEL_152a5d33aed1414a85ad71ba5e493341"
      }
     },
     "8b44a79187f845dda6e11faf35647acc": {
      "model_module": "@jupyter-widgets/controls",
      "model_module_version": "1.5.0",
      "model_name": "HTMLModel",
      "state": {
       "layout": "IPY_MODEL_24e267180a6f4702ab187aacb7b87dc0",
       "style": "IPY_MODEL_18d4c792b0ea4317854ede0184b9958d",
       "value": "<h5>Status</h5>"
      }
     },
     "8d3ba29f1dca4c249bc9e6b0e9813fcd": {
      "model_module": "@jupyter-widgets/controls",
      "model_module_version": "1.5.0",
      "model_name": "DescriptionStyleModel",
      "state": {
       "description_width": ""
      }
     },
     "aa99a2b2a15b4ed9b47adc8f6c95e312": {
      "model_module": "@jupyter-widgets/controls",
      "model_module_version": "1.5.0",
      "model_name": "DescriptionStyleModel",
      "state": {
       "description_width": ""
      }
     },
     "b3aa4f1ca7874573be5794004eaf0e5c": {
      "model_module": "@jupyter-widgets/controls",
      "model_module_version": "1.5.0",
      "model_name": "HTMLModel",
      "state": {
       "layout": "IPY_MODEL_1a8576e8c79f416aa967d247377cc6a2",
       "style": "IPY_MODEL_cb4c8ae9241443e68542c09a97bf7b7c",
       "value": "<h5>Queue</h5>"
      }
     },
     "c6ccd3418d5040b19b834f028d206638": {
      "model_module": "@jupyter-widgets/controls",
      "model_module_version": "1.5.0",
      "model_name": "HTMLModel",
      "state": {
       "layout": "IPY_MODEL_28673b7c6d2648558f28f4cf47517429",
       "style": "IPY_MODEL_8d3ba29f1dca4c249bc9e6b0e9813fcd",
       "value": "<h5>Job ID</h5>"
      }
     },
     "cac9380465f94aab8472ff610353380b": {
      "model_module": "@jupyter-widgets/controls",
      "model_module_version": "1.5.0",
      "model_name": "HTMLModel",
      "state": {
       "layout": "IPY_MODEL_36479cd4968d4a0690cfa63586220f6f",
       "style": "IPY_MODEL_7c404fa765b64627bddd28ccff4e13d8",
       "value": "<p style='font-family: IBM Plex Sans, Arial, Helvetica, sans-serif; font-size: 20px; font-weight: medium;'>Circuit Properties</p>"
      }
     },
     "cb4c8ae9241443e68542c09a97bf7b7c": {
      "model_module": "@jupyter-widgets/controls",
      "model_module_version": "1.5.0",
      "model_name": "DescriptionStyleModel",
      "state": {
       "description_width": ""
      }
     },
     "f73bcb167ebb4c67960eba3478acf41d": {
      "model_module": "@jupyter-widgets/base",
      "model_module_version": "1.2.0",
      "model_name": "LayoutModel",
      "state": {
       "grid_template_areas": "\n                                       \". . . . right \"\n                                        ",
       "grid_template_columns": "20% 20% 20% 20% 20%",
       "width": "100%"
      }
     },
     "fdcee24e7577495d9da56d05382e9230": {
      "model_module": "@jupyter-widgets/controls",
      "model_module_version": "1.5.0",
      "model_name": "GridBoxModel",
      "state": {
       "children": [
        "IPY_MODEL_402197c8160344ed9bd3154217994190"
       ],
       "layout": "IPY_MODEL_f73bcb167ebb4c67960eba3478acf41d"
      }
     }
    },
    "version_major": 2,
    "version_minor": 0
   }
  }
 },
 "nbformat": 4,
 "nbformat_minor": 5
}
