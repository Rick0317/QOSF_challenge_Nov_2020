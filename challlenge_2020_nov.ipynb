{
 "cells": [
  {
   "cell_type": "code",
   "execution_count": 1,
   "id": "c52db890-97dc-4a13-a2e1-f978fc665b56",
   "metadata": {},
   "outputs": [
    {
     "name": "stderr",
     "output_type": "stream",
     "text": [
      "<frozen importlib._bootstrap>:219: RuntimeWarning: scipy._lib.messagestream.MessageStream size changed, may indicate binary incompatibility. Expected 56 from C header, got 64 from PyObject\n"
     ]
    }
   ],
   "source": [
    "import numpy as np\n",
    "\n",
    "# Importing standard Qiskit libraries\n",
    "from qiskit import QuantumCircuit, transpile, Aer, IBMQ\n",
    "from qiskit.tools.jupyter import *\n",
    "from qiskit.visualization import *\n",
    "from ibm_quantum_widgets import *\n",
    "from qiskit.providers.aer import QasmSimulator\n",
    "\n",
    "# Loading your IBM Quantum account(s)\n",
    "provider = IBMQ.load_account()"
   ]
  },
  {
   "cell_type": "markdown",
   "id": "8a229703",
   "metadata": {},
   "source": [
    "# Solving for the first challenge"
   ]
  },
  {
   "cell_type": "markdown",
   "id": "721c7f92-da2e-4b4e-89cd-5139d8d7ff9b",
   "metadata": {},
   "source": [
    "## Creating a unitary matrix"
   ]
  },
  {
   "cell_type": "code",
   "execution_count": 3,
   "id": "a7029751-80e0-4b59-838a-cbfe25d89d83",
   "metadata": {},
   "outputs": [],
   "source": [
    "import numpy.random as nprm"
   ]
  },
  {
   "cell_type": "code",
   "execution_count": 21,
   "id": "0afb466f-b239-4954-94ca-d16c34faf26a",
   "metadata": {},
   "outputs": [],
   "source": [
    "def make_unitary():\n",
    "    v = []\n",
    "    random = nprm.randint(2, size=4)\n",
    "    for i in random:\n",
    "        if i == 0:\n",
    "            v.append(-1)\n",
    "        else:\n",
    "            v.append(1)\n",
    "    uni_matrix = np.diag(v)\n",
    "    return uni_matrix"
   ]
  },
  {
   "cell_type": "markdown",
   "id": "f08fca4c-d4af-4ed6-82ae-be81172cfbd1",
   "metadata": {},
   "source": [
    "## Create a Quantum Circuit based on the given 4 by 4 unitary matrix"
   ]
  },
  {
   "cell_type": "code",
   "execution_count": null,
   "id": "4f5ac56b-b352-43e8-b3d0-855d088ca307",
   "metadata": {},
   "outputs": [],
   "source": [
    "def gates(matrix):\n",
    "    qc = QuantumCircuit(2)\n",
    "    rt2 = np.sqrt(2)\n",
    "    if (matrix == np.array([[0,0,-1j,0],\n",
    "                           [0,0,0,-1j],\n",
    "                           [-1j,0,0,0],\n",
    "                           [0,-1j,0,0]])).all():\n",
    "        qc.rx(np.pi, 0)\n",
    "    if (matrix == np.array([[1,0,0,0],\n",
    "                           [0,1,0,0],\n",
    "                           [0,0,0,1],\n",
    "                           [0,0,1,0]])).all():\n",
    "        qc.cnot(0, 1)\n",
    "    if (matrix == np.array([[0,-1j,0,0],\n",
    "                           [-1j,0,0,0],\n",
    "                           [0,0,0,-1j],\n",
    "                           [0,0,-1j,0]])).all():\n",
    "        qc.rx(np.pi, 1)\n",
    "    if (matrix == np.array([[0,0,1,0],\n",
    "                           [0,0,0,1],\n",
    "                           [1,0,0,0],\n",
    "                           [0,1,0,0]])).all():\n",
    "        qc.x(0)\n",
    "    if (matrix == np.array([[0,1,0,0],\n",
    "                           [1,0,0,0],\n",
    "                           [0,0,0,1],\n",
    "                           [0,0,1,0]])).all():\n",
    "        qc.x(1)\n",
    "    if (matrix == np.array([[1/rt2,0,1/rt2,0],\n",
    "                           [0,1/rt2,0,1/rt2],\n",
    "                           [1/rt2,0,-1/rt2,0],\n",
    "                           [0,1/rt2,0,-1/rt2]])).all():\n",
    "        qc.h(0)\n",
    "    if (matrix == np.array([[1/rt2,1/rt2,0,0],\n",
    "                           [1/rt2,-1/rt2,0,0],\n",
    "                           [0,0,1/rt2,1/rt2],\n",
    "                           [0,0,1/rt2,-1/rt2]])).all():\n",
    "        qc.h(1)\n",
    "    if (matrix == np.array([[1,0,0,0],\n",
    "                           [0,1,0,0],\n",
    "                           [0,0,-1,0],\n",
    "                           [0,0,0,-1]])).all():\n",
    "        qc.z(0)\n",
    "    if (matrix == np.array([[1,0,0,0],\n",
    "                           [0,-1,0,0],\n",
    "                           [0,0,1,0],\n",
    "                           [0,0,0,-1]])).all():\n",
    "        qc.z(1)\n",
    "    if (matrix == np.array([[1,0,0,0],\n",
    "                           [0,1,0,0],\n",
    "                           [0,0,1,0],\n",
    "                           [0,0,0,-1]])).all():\n",
    "        qc.cz(0, 1)\n",
    "    "
   ]
  },
  {
   "cell_type": "code",
   "execution_count": null,
   "id": "1e8c0e7c",
   "metadata": {},
   "outputs": [],
   "source": [
    "def qc_composer(uni_matrix):\n",
    "    qc = QuantumCircuit(2)\n",
    "    if uni_matrix[0][0] == -1:\n",
    "        qc.z(0)\n",
    "        qc.z(1)\n",
    "        qc.cz(0, 1)\n",
    "        qc.rx(np.pi, 0)\n",
    "        qc.rx(np.pi, 0)\n",
    "    if uni_matrix[1][1] == -1:\n",
    "        qc.z(1)\n",
    "        qc.cz(0, 1)\n",
    "    if uni_matrix[2][2] == -1:\n",
    "        qc.z(0)\n",
    "        qc.z(1)\n",
    "        qc.z(0)\n",
    "        qc.z(1)\n",
    "        qc.cz(0, 1)\n",
    "    if uni_matrix[3][3] == -1:\n",
    "        qc.cz(0, 1)\n",
    "    return qc\n"
   ]
  },
  {
   "cell_type": "code",
   "execution_count": null,
   "id": "5fbdaf41",
   "metadata": {},
   "outputs": [],
   "source": [
    "unitary = make_unitary()\n",
    "print(unitary)"
   ]
  },
  {
   "cell_type": "code",
   "execution_count": null,
   "id": "1f8b00ed",
   "metadata": {},
   "outputs": [],
   "source": [
    "qc_composer(unitary).draw()"
   ]
  }
 ],
 "metadata": {
  "kernelspec": {
   "display_name": "Python 3.10.5 64-bit",
   "language": "python",
   "name": "python3"
  },
  "language_info": {
   "codemirror_mode": {
    "name": "ipython",
    "version": 3
   },
   "file_extension": ".py",
   "mimetype": "text/x-python",
   "name": "python",
   "nbconvert_exporter": "python",
   "pygments_lexer": "ipython3",
   "version": "3.10.5"
  },
  "vscode": {
   "interpreter": {
    "hash": "7e1998ff7f8aa20ada591c520b972326324e5ea05489af9e422744c7c09f6dad"
   }
  },
  "widgets": {
   "application/vnd.jupyter.widget-state+json": {
    "state": {
     "0a6a4e3c647c4c55840b9ed6ce862115": {
      "model_module": "@jupyter-widgets/controls",
      "model_module_version": "1.5.0",
      "model_name": "HBoxModel",
      "state": {
       "children": [
        "IPY_MODEL_e2da22989d84402085026792e0dd4038",
        "IPY_MODEL_ec4d9629c1b247d08254b208c4fe355c",
        "IPY_MODEL_0db5137bbd864eca98c23e073c6eadd6",
        "IPY_MODEL_bc6ef6b91ecd4320839d98fd257d1223",
        "IPY_MODEL_7987540e76ac42d6a7349375b8515462"
       ],
       "layout": "IPY_MODEL_9e2af1e386fb41c8ba650987e8b673cf"
      }
     },
     "0d0bfa95ed774f84b97d4768d686b7b4": {
      "model_module": "@jupyter-widgets/controls",
      "model_module_version": "1.5.0",
      "model_name": "DescriptionStyleModel",
      "state": {
       "description_width": ""
      }
     },
     "0db5137bbd864eca98c23e073c6eadd6": {
      "model_module": "@jupyter-widgets/controls",
      "model_module_version": "1.5.0",
      "model_name": "HTMLModel",
      "state": {
       "layout": "IPY_MODEL_178f75982e044554a718400cafc5aa54",
       "style": "IPY_MODEL_0d0bfa95ed774f84b97d4768d686b7b4",
       "value": "<h5>Status</h5>"
      }
     },
     "0e8a479645804fa194bb984d0ded30c3": {
      "model_module": "@jupyter-widgets/controls",
      "model_module_version": "1.5.0",
      "model_name": "DescriptionStyleModel",
      "state": {
       "description_width": ""
      }
     },
     "0f10dad23fa64866893dab86d7560173": {
      "model_module": "@jupyter-widgets/controls",
      "model_module_version": "1.5.0",
      "model_name": "DescriptionStyleModel",
      "state": {
       "description_width": ""
      }
     },
     "178f75982e044554a718400cafc5aa54": {
      "model_module": "@jupyter-widgets/base",
      "model_module_version": "1.2.0",
      "model_name": "LayoutModel",
      "state": {
       "width": "95px"
      }
     },
     "3226d67a5a004058ae489e5ce5065cb0": {
      "model_module": "@jupyter-widgets/base",
      "model_module_version": "1.2.0",
      "model_name": "LayoutModel",
      "state": {}
     },
     "3bb48ae77ed747139383fafa7f92ec95": {
      "model_module": "@jupyter-widgets/controls",
      "model_module_version": "1.5.0",
      "model_name": "DescriptionStyleModel",
      "state": {
       "description_width": ""
      }
     },
     "4feadf8cdcfe40e288dc168efd1a7747": {
      "model_module": "@jupyter-widgets/base",
      "model_module_version": "1.2.0",
      "model_name": "LayoutModel",
      "state": {
       "width": "70px"
      }
     },
     "7987540e76ac42d6a7349375b8515462": {
      "model_module": "@jupyter-widgets/controls",
      "model_module_version": "1.5.0",
      "model_name": "HTMLModel",
      "state": {
       "layout": "IPY_MODEL_3226d67a5a004058ae489e5ce5065cb0",
       "style": "IPY_MODEL_bf72a353c22441739944325e0158ab2f",
       "value": "<h5>Message</h5>"
      }
     },
     "994b2b2ebf2d4e188ab2f2ae9ff4fe02": {
      "model_module": "@jupyter-widgets/controls",
      "model_module_version": "1.5.0",
      "model_name": "ButtonModel",
      "state": {
       "button_style": "primary",
       "description": "Clear",
       "layout": "IPY_MODEL_b3b1dfdde12647ff8e34b851bf39dbd8",
       "style": "IPY_MODEL_d226ec0b7441441a8991ed073ae1121f"
      }
     },
     "9de6202cfa14482fb6fba8ef66f336c2": {
      "model_module": "@jupyter-widgets/controls",
      "model_module_version": "1.5.0",
      "model_name": "HTMLModel",
      "state": {
       "layout": "IPY_MODEL_e03fc3a9d490471597ba37a3f203765d",
       "style": "IPY_MODEL_0e8a479645804fa194bb984d0ded30c3",
       "value": "<p style='font-family: IBM Plex Sans, Arial, Helvetica, sans-serif; font-size: 20px; font-weight: medium;'>Circuit Properties</p>"
      }
     },
     "9e2af1e386fb41c8ba650987e8b673cf": {
      "model_module": "@jupyter-widgets/base",
      "model_module_version": "1.2.0",
      "model_name": "LayoutModel",
      "state": {
       "margin": "0px 0px 0px 37px",
       "width": "600px"
      }
     },
     "a46837734ca049d7bcd8e94dec160066": {
      "model_module": "@jupyter-widgets/controls",
      "model_module_version": "1.5.0",
      "model_name": "GridBoxModel",
      "state": {
       "children": [
        "IPY_MODEL_994b2b2ebf2d4e188ab2f2ae9ff4fe02"
       ],
       "layout": "IPY_MODEL_e6cd0e839dc14cf4bd4d9734ce36986e"
      }
     },
     "b3b1dfdde12647ff8e34b851bf39dbd8": {
      "model_module": "@jupyter-widgets/base",
      "model_module_version": "1.2.0",
      "model_name": "LayoutModel",
      "state": {
       "grid_area": "right",
       "padding": "0px 0px 0px 0px",
       "width": "70px"
      }
     },
     "b942681ecd2d4c0eb5147d10f6377051": {
      "model_module": "@jupyter-widgets/controls",
      "model_module_version": "1.5.0",
      "model_name": "DescriptionStyleModel",
      "state": {
       "description_width": ""
      }
     },
     "bc6ef6b91ecd4320839d98fd257d1223": {
      "model_module": "@jupyter-widgets/controls",
      "model_module_version": "1.5.0",
      "model_name": "HTMLModel",
      "state": {
       "layout": "IPY_MODEL_4feadf8cdcfe40e288dc168efd1a7747",
       "style": "IPY_MODEL_b942681ecd2d4c0eb5147d10f6377051",
       "value": "<h5>Queue</h5>"
      }
     },
     "bf72a353c22441739944325e0158ab2f": {
      "model_module": "@jupyter-widgets/controls",
      "model_module_version": "1.5.0",
      "model_name": "DescriptionStyleModel",
      "state": {
       "description_width": ""
      }
     },
     "d226ec0b7441441a8991ed073ae1121f": {
      "model_module": "@jupyter-widgets/controls",
      "model_module_version": "1.5.0",
      "model_name": "ButtonStyleModel",
      "state": {}
     },
     "d9e43053e49b46a699148d21e9fe86ba": {
      "model_module": "@jupyter-widgets/base",
      "model_module_version": "1.2.0",
      "model_name": "LayoutModel",
      "state": {
       "width": "190px"
      }
     },
     "e03fc3a9d490471597ba37a3f203765d": {
      "model_module": "@jupyter-widgets/base",
      "model_module_version": "1.2.0",
      "model_name": "LayoutModel",
      "state": {
       "margin": "0px 0px 10px 0px"
      }
     },
     "e2da22989d84402085026792e0dd4038": {
      "model_module": "@jupyter-widgets/controls",
      "model_module_version": "1.5.0",
      "model_name": "HTMLModel",
      "state": {
       "layout": "IPY_MODEL_d9e43053e49b46a699148d21e9fe86ba",
       "style": "IPY_MODEL_3bb48ae77ed747139383fafa7f92ec95",
       "value": "<h5>Job ID</h5>"
      }
     },
     "e6cd0e839dc14cf4bd4d9734ce36986e": {
      "model_module": "@jupyter-widgets/base",
      "model_module_version": "1.2.0",
      "model_name": "LayoutModel",
      "state": {
       "grid_template_areas": "\n                                       \". . . . right \"\n                                        ",
       "grid_template_columns": "20% 20% 20% 20% 20%",
       "width": "100%"
      }
     },
     "ec4d9629c1b247d08254b208c4fe355c": {
      "model_module": "@jupyter-widgets/controls",
      "model_module_version": "1.5.0",
      "model_name": "HTMLModel",
      "state": {
       "layout": "IPY_MODEL_f16ee339c2b64192b193155e4ecabe47",
       "style": "IPY_MODEL_0f10dad23fa64866893dab86d7560173",
       "value": "<h5>Backend</h5>"
      }
     },
     "f16ee339c2b64192b193155e4ecabe47": {
      "model_module": "@jupyter-widgets/base",
      "model_module_version": "1.2.0",
      "model_name": "LayoutModel",
      "state": {
       "width": "145px"
      }
     }
    },
    "version_major": 2,
    "version_minor": 0
   }
  }
 },
 "nbformat": 4,
 "nbformat_minor": 5
}
